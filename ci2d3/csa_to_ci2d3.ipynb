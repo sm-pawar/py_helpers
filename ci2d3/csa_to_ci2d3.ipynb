{
 "cells": [
  {
   "cell_type": "code",
   "execution_count": 1,
   "metadata": {},
   "outputs": [],
   "source": [
    "import os\n",
    "import geopandas as gpd \n",
    "import pandas as pd\n",
    "from datetime import datetime\n",
    "import string\n",
    "import random\n",
    "\n",
    "\n",
    "#WCA data processing "
   ]
  },
  {
   "cell_type": "code",
   "execution_count": 2,
   "metadata": {},
   "outputs": [],
   "source": [
    "ref_columns = ['obs', 'p-obs', 'calvingyr', 'calvingloc', 'area', 'perimeter', 'length', 'lon', 'lat', 'geometry',\n",
    "                'scenedate', 'imgref', 'mothercert', 'shpcert', 'georef', 'ddinfo', 'sensor', 'beam_mode', 'pol']\n"
   ]
  },
  {
   "cell_type": "code",
   "execution_count": 3,
   "metadata": {},
   "outputs": [],
   "source": [
    "# Read the CSA files in pandas dataframe\n",
    "file_path = r'3020.shp'\n",
    "\n",
    "filename = os.path.basename(file_path)[:-4]\n",
    "\n",
    "raw_gdf = gpd.read_file(file_path)\n"
   ]
  },
  {
   "cell_type": "code",
   "execution_count": 4,
   "metadata": {},
   "outputs": [
    {
     "name": "stderr",
     "output_type": "stream",
     "text": [
      "C:\\Users\\shubh\\AppData\\Local\\Temp\\ipykernel_13480\\1705199530.py:5: FutureWarning: The behavior of DataFrame concatenation with empty or all-NA entries is deprecated. In a future version, this will no longer exclude empty or all-NA columns when determining the result dtypes. To retain the old behavior, exclude the relevant entries before the concat operation.\n",
      "  new_data =  pd.concat([filtered_ice_ty,pd.DataFrame(columns=ref_columns)])\n"
     ]
    }
   ],
   "source": [
    "# filter the data based on the ICE TYPE value i = {}, ii = {}\n",
    "filtered_ice_ty = raw_gdf[raw_gdf['ICETYPE']=='ii']\n",
    "\n",
    "#added new reference colums to the the filtered data\n",
    "new_data =  pd.concat([filtered_ice_ty,pd.DataFrame(columns=ref_columns)])"
   ]
  },
  {
   "cell_type": "code",
   "execution_count": 5,
   "metadata": {},
   "outputs": [],
   "source": [
    "new_data.reset_index(drop=True, inplace=True)"
   ]
  },
  {
   "cell_type": "code",
   "execution_count": 6,
   "metadata": {},
   "outputs": [
    {
     "name": "stdout",
     "output_type": "stream",
     "text": [
      "126\n"
     ]
    }
   ],
   "source": [
    "# add the values to the new columns\n",
    "new_data['INSTID'] = new_data['INSTID'].astype('int')\n",
    "new_data.sort_values(by=['INSTID'],inplace=True)\n",
    "\n",
    "new_data = new_data[new_data['INSTID'].notna()]\n",
    "print(len(new_data))"
   ]
  },
  {
   "cell_type": "code",
   "execution_count": 7,
   "metadata": {},
   "outputs": [],
   "source": [
    "date_format = \"%Y%m%d_%H%M%S\" \n",
    "\n",
    "new_data['obs'] = new_data['IMGREF'].apply(lambda x: f\"{x[:18]}_0_{''.join(random.sample(string.ascii_uppercase, 3))}\")\n",
    "new_data['scenedate'] = new_data['IMGREF'].apply(lambda x: x[:15])\n",
    "new_data['calvingyr'] = new_data['IMGREF'].apply(lambda x: datetime.strptime(x[:15],date_format).year)\n",
    "new_data['pol'] = new_data['IMGREF'].apply(lambda x: x[24:26])\n",
    "new_data['sensor'] = new_data['IMGREF'].apply(lambda x: x[16:18])\n",
    "new_data['beam_mode'] = new_data['IMGREF'].apply(lambda x: x[19:23].replace(\"_\", \"\"))\n",
    "new_data['imgref'] = new_data['IMGREF']\n",
    "new_data['ddinfo'] = 'drifting'\n",
    "new_data['mothercert'] = 1\n",
    "new_data['shpcert'] = 1\n",
    "new_data['calvingloc'] = 'WH'"
   ]
  },
  {
   "cell_type": "code",
   "execution_count": 8,
   "metadata": {},
   "outputs": [
    {
     "data": {
      "text/plain": [
       "Index(['INSTID', 'OBJ', 'FNAME', 'ICETYPE', 'ICETYPE2', 'IMGREF', 'TARGET',\n",
       "       'VALIDATE', 'TARGETOBJ', 'FROMDATE', 'TODATE', 'NOTES', 'geometry',\n",
       "       'obs', 'p-obs', 'calvingyr', 'calvingloc', 'area', 'perimeter',\n",
       "       'length', 'lon', 'lat', 'scenedate', 'imgref', 'mothercert', 'shpcert',\n",
       "       'georef', 'ddinfo', 'sensor', 'beam_mode', 'pol'],\n",
       "      dtype='object')"
      ]
     },
     "execution_count": 8,
     "metadata": {},
     "output_type": "execute_result"
    }
   ],
   "source": [
    "new_data.columns"
   ]
  },
  {
   "cell_type": "code",
   "execution_count": 9,
   "metadata": {},
   "outputs": [],
   "source": [
    "new_data.loc[0, 'p-obs'] = new_data.loc[0, 'obs']\n",
    "\n",
    "for i in range(1, len(new_data)):\n",
    "    new_data.loc[i, 'p-obs'] = new_data.loc[i-1, 'obs']"
   ]
  },
  {
   "cell_type": "code",
   "execution_count": 10,
   "metadata": {},
   "outputs": [],
   "source": [
    "# Select the ones you want\n",
    "ref_columns.append('NOTES')\n",
    "formatted_csa = new_data[ref_columns]\n",
    "\n",
    "\n"
   ]
  },
  {
   "cell_type": "code",
   "execution_count": 11,
   "metadata": {},
   "outputs": [
    {
     "data": {
      "text/plain": [
       "['obs',\n",
       " 'p-obs',\n",
       " 'calvingyr',\n",
       " 'calvingloc',\n",
       " 'area',\n",
       " 'perimeter',\n",
       " 'length',\n",
       " 'lon',\n",
       " 'lat',\n",
       " 'geometry',\n",
       " 'scenedate',\n",
       " 'imgref',\n",
       " 'mothercert',\n",
       " 'shpcert',\n",
       " 'georef',\n",
       " 'ddinfo',\n",
       " 'sensor',\n",
       " 'beam_mode',\n",
       " 'pol',\n",
       " 'NOTES']"
      ]
     },
     "execution_count": 11,
     "metadata": {},
     "output_type": "execute_result"
    }
   ],
   "source": [
    "ref_columns"
   ]
  },
  {
   "cell_type": "code",
   "execution_count": 12,
   "metadata": {},
   "outputs": [],
   "source": [
    "formatted_csa.to_file(rf'D:\\UNI_Stir\\Projects\\CI2D3\\InProgress\\python\\{filename}_formatted.shp', driver='ESRI Shapefile')"
   ]
  }
 ],
 "metadata": {
  "kernelspec": {
   "display_name": "geo_env",
   "language": "python",
   "name": "python3"
  },
  "language_info": {
   "codemirror_mode": {
    "name": "ipython",
    "version": 3
   },
   "file_extension": ".py",
   "mimetype": "text/x-python",
   "name": "python",
   "nbconvert_exporter": "python",
   "pygments_lexer": "ipython3",
   "version": "3.12.3"
  }
 },
 "nbformat": 4,
 "nbformat_minor": 2
}
