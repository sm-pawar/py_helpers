{
 "cells": [
  {
   "cell_type": "code",
   "execution_count": 16,
   "metadata": {},
   "outputs": [],
   "source": [
    "import geopandas as gpd\n",
    "import pandas as pd\n",
    "\n",
    "import os \n",
    "from glob import glob\n",
    "from functools import reduce"
   ]
  },
  {
   "cell_type": "code",
   "execution_count": 43,
   "metadata": {},
   "outputs": [
    {
     "data": {
      "text/plain": [
       "32644"
      ]
     },
     "execution_count": 43,
     "metadata": {},
     "output_type": "execute_result"
    }
   ],
   "source": [
    "gpkg_file.crs.to_epsg()"
   ]
  },
  {
   "cell_type": "code",
   "execution_count": 44,
   "metadata": {},
   "outputs": [],
   "source": [
    "list_df = []\n",
    "\n",
    "for filename in glob(r\"C:\\Users\\smp3\\Downloads\\GG_LULC\\buffer\\sisdp*.gpkg\"):\n",
    "    os.path.basename(filename)\n",
    "    print(os.path.basename(filename).split('.')[0])\n",
    "    gpkg_file = gpd.read_file(filename)\n",
    "    print(gpkg_file.crs.to_epsg())\n",
    "    gpkg_file['Area'] = gpkg_file.area\n",
    "    area_data = gpkg_file.groupby(['Level_I'])[\"Area\"].apply(lambda x : x.astype(int).sum())\n",
    "    area_df = area_data.reset_index()\n",
    "    area_df.rename(columns={\"DESCR_1\": 'LandUse', \"Area\": os.path.basename(filename).split('.')[0]}, inplace=True)\n",
    "    \n",
    "    list_df.append(area_df)"
   ]
  },
  {
   "cell_type": "code",
   "execution_count": 34,
   "metadata": {},
   "outputs": [
    {
     "data": {
      "text/html": [
       "<div>\n",
       "<style scoped>\n",
       "    .dataframe tbody tr th:only-of-type {\n",
       "        vertical-align: middle;\n",
       "    }\n",
       "\n",
       "    .dataframe tbody tr th {\n",
       "        vertical-align: top;\n",
       "    }\n",
       "\n",
       "    .dataframe thead th {\n",
       "        text-align: right;\n",
       "    }\n",
       "</style>\n",
       "<table border=\"1\" class=\"dataframe\">\n",
       "  <thead>\n",
       "    <tr style=\"text-align: right;\">\n",
       "      <th></th>\n",
       "      <th>Level_I</th>\n",
       "      <th>sisdp_v2_lulc_10k_clip_2km_32644</th>\n",
       "    </tr>\n",
       "  </thead>\n",
       "  <tbody>\n",
       "    <tr>\n",
       "      <th>0</th>\n",
       "      <td>Agriculture</td>\n",
       "      <td>143171234</td>\n",
       "    </tr>\n",
       "    <tr>\n",
       "      <th>1</th>\n",
       "      <td>Built-up</td>\n",
       "      <td>17454434</td>\n",
       "    </tr>\n",
       "    <tr>\n",
       "      <th>2</th>\n",
       "      <td>Forest</td>\n",
       "      <td>190989745</td>\n",
       "    </tr>\n",
       "    <tr>\n",
       "      <th>3</th>\n",
       "      <td>Grasslands / Grazing Lands</td>\n",
       "      <td>711845</td>\n",
       "    </tr>\n",
       "    <tr>\n",
       "      <th>4</th>\n",
       "      <td>Wastelands</td>\n",
       "      <td>26921796</td>\n",
       "    </tr>\n",
       "    <tr>\n",
       "      <th>5</th>\n",
       "      <td>Water Bodies</td>\n",
       "      <td>929764</td>\n",
       "    </tr>\n",
       "  </tbody>\n",
       "</table>\n",
       "</div>"
      ],
      "text/plain": [
       "                      Level_I  sisdp_v2_lulc_10k_clip_2km_32644\n",
       "0                 Agriculture                         143171234\n",
       "1                    Built-up                          17454434\n",
       "2                      Forest                         190989745\n",
       "3  Grasslands / Grazing Lands                            711845\n",
       "4                  Wastelands                          26921796\n",
       "5                Water Bodies                            929764"
      ]
     },
     "execution_count": 34,
     "metadata": {},
     "output_type": "execute_result"
    }
   ],
   "source": [
    "list_df[0]\n"
   ]
  },
  {
   "cell_type": "code",
   "execution_count": 38,
   "metadata": {},
   "outputs": [],
   "source": [
    "reduce(lambda x,y: pd.merge(x,y, on='Level_I', how='outer'), list_df).to_clipboard(index=False)"
   ]
  },
  {
   "cell_type": "code",
   "execution_count": 2,
   "metadata": {},
   "outputs": [],
   "source": [
    "gpkg_file = gpd.read_file(r\"C:\\Users\\smp3\\Downloads\\GG_LULC\\buffer\\lulc_50K_0506_clip_2km_32644.gpkg\")"
   ]
  },
  {
   "cell_type": "code",
   "execution_count": 4,
   "metadata": {},
   "outputs": [],
   "source": [
    "gpkg_file['Area'] = gpkg_file.area"
   ]
  },
  {
   "cell_type": "code",
   "execution_count": 8,
   "metadata": {},
   "outputs": [
    {
     "data": {
      "text/html": [
       "<div>\n",
       "<style scoped>\n",
       "    .dataframe tbody tr th:only-of-type {\n",
       "        vertical-align: middle;\n",
       "    }\n",
       "\n",
       "    .dataframe tbody tr th {\n",
       "        vertical-align: top;\n",
       "    }\n",
       "\n",
       "    .dataframe thead th {\n",
       "        text-align: right;\n",
       "    }\n",
       "</style>\n",
       "<table border=\"1\" class=\"dataframe\">\n",
       "  <thead>\n",
       "    <tr style=\"text-align: right;\">\n",
       "      <th></th>\n",
       "      <th>DESCR_1</th>\n",
       "      <th>DESCR_2</th>\n",
       "      <th>LU_Webcode</th>\n",
       "      <th>Area</th>\n",
       "      <th>geometry</th>\n",
       "    </tr>\n",
       "  </thead>\n",
       "  <tbody>\n",
       "    <tr>\n",
       "      <th>0</th>\n",
       "      <td>Built-up</td>\n",
       "      <td>Urban</td>\n",
       "      <td>01</td>\n",
       "      <td>9.327574e+05</td>\n",
       "      <td>MULTIPOLYGON (((258084.910 3364129.785, 258064...</td>\n",
       "    </tr>\n",
       "    <tr>\n",
       "      <th>1</th>\n",
       "      <td>Built-up</td>\n",
       "      <td>Urban</td>\n",
       "      <td>01</td>\n",
       "      <td>1.531893e+06</td>\n",
       "      <td>MULTIPOLYGON (((254356.945 3364204.914, 254350...</td>\n",
       "    </tr>\n",
       "    <tr>\n",
       "      <th>2</th>\n",
       "      <td>Built-up</td>\n",
       "      <td>Urban</td>\n",
       "      <td>01</td>\n",
       "      <td>8.741827e+05</td>\n",
       "      <td>MULTIPOLYGON (((256015.184 3367974.098, 256037...</td>\n",
       "    </tr>\n",
       "    <tr>\n",
       "      <th>3</th>\n",
       "      <td>Built-up</td>\n",
       "      <td>Rural</td>\n",
       "      <td>02</td>\n",
       "      <td>5.562898e+05</td>\n",
       "      <td>MULTIPOLYGON (((250464.878 3360302.343, 250595...</td>\n",
       "    </tr>\n",
       "    <tr>\n",
       "      <th>4</th>\n",
       "      <td>Agriculture</td>\n",
       "      <td>Cropland</td>\n",
       "      <td>04</td>\n",
       "      <td>1.350808e+03</td>\n",
       "      <td>MULTIPOLYGON (((263806.392 3359311.850, 263830...</td>\n",
       "    </tr>\n",
       "    <tr>\n",
       "      <th>...</th>\n",
       "      <td>...</td>\n",
       "      <td>...</td>\n",
       "      <td>...</td>\n",
       "      <td>...</td>\n",
       "      <td>...</td>\n",
       "    </tr>\n",
       "    <tr>\n",
       "      <th>283</th>\n",
       "      <td>Wetlands/ Waterbodies</td>\n",
       "      <td>River/ Stream/ Canals</td>\n",
       "      <td>22</td>\n",
       "      <td>2.360905e+05</td>\n",
       "      <td>MULTIPOLYGON (((254871.526 3366772.079, 254922...</td>\n",
       "    </tr>\n",
       "    <tr>\n",
       "      <th>284</th>\n",
       "      <td>Wetlands/ Waterbodies</td>\n",
       "      <td>River/ Stream/ Canals</td>\n",
       "      <td>22</td>\n",
       "      <td>8.651718e+05</td>\n",
       "      <td>MULTIPOLYGON (((258315.524 3359284.634, 258306...</td>\n",
       "    </tr>\n",
       "    <tr>\n",
       "      <th>285</th>\n",
       "      <td>Wetlands/ Waterbodies</td>\n",
       "      <td>River/ Stream/ Canals</td>\n",
       "      <td>22</td>\n",
       "      <td>3.412848e+06</td>\n",
       "      <td>MULTIPOLYGON (((272179.633 3375501.925, 272196...</td>\n",
       "    </tr>\n",
       "    <tr>\n",
       "      <th>286</th>\n",
       "      <td>Wetlands/ Waterbodies</td>\n",
       "      <td>River/ Stream/ Canals</td>\n",
       "      <td>22</td>\n",
       "      <td>1.511953e+06</td>\n",
       "      <td>MULTIPOLYGON (((250802.121 3375479.084, 250785...</td>\n",
       "    </tr>\n",
       "    <tr>\n",
       "      <th>287</th>\n",
       "      <td>Wetlands/ Waterbodies</td>\n",
       "      <td>Reservoirs/ Lakes/ Ponds</td>\n",
       "      <td>23</td>\n",
       "      <td>9.945504e+06</td>\n",
       "      <td>MULTIPOLYGON (((253865.034 3370604.591, 253838...</td>\n",
       "    </tr>\n",
       "  </tbody>\n",
       "</table>\n",
       "<p>288 rows × 5 columns</p>\n",
       "</div>"
      ],
      "text/plain": [
       "                    DESCR_1                    DESCR_2 LU_Webcode  \\\n",
       "0                  Built-up                      Urban         01   \n",
       "1                  Built-up                      Urban         01   \n",
       "2                  Built-up                      Urban         01   \n",
       "3                  Built-up                      Rural         02   \n",
       "4               Agriculture                   Cropland         04   \n",
       "..                      ...                        ...        ...   \n",
       "283   Wetlands/ Waterbodies      River/ Stream/ Canals         22   \n",
       "284   Wetlands/ Waterbodies      River/ Stream/ Canals         22   \n",
       "285   Wetlands/ Waterbodies      River/ Stream/ Canals         22   \n",
       "286   Wetlands/ Waterbodies      River/ Stream/ Canals         22   \n",
       "287   Wetlands/ Waterbodies   Reservoirs/ Lakes/ Ponds         23   \n",
       "\n",
       "             Area                                           geometry  \n",
       "0    9.327574e+05  MULTIPOLYGON (((258084.910 3364129.785, 258064...  \n",
       "1    1.531893e+06  MULTIPOLYGON (((254356.945 3364204.914, 254350...  \n",
       "2    8.741827e+05  MULTIPOLYGON (((256015.184 3367974.098, 256037...  \n",
       "3    5.562898e+05  MULTIPOLYGON (((250464.878 3360302.343, 250595...  \n",
       "4    1.350808e+03  MULTIPOLYGON (((263806.392 3359311.850, 263830...  \n",
       "..            ...                                                ...  \n",
       "283  2.360905e+05  MULTIPOLYGON (((254871.526 3366772.079, 254922...  \n",
       "284  8.651718e+05  MULTIPOLYGON (((258315.524 3359284.634, 258306...  \n",
       "285  3.412848e+06  MULTIPOLYGON (((272179.633 3375501.925, 272196...  \n",
       "286  1.511953e+06  MULTIPOLYGON (((250802.121 3375479.084, 250785...  \n",
       "287  9.945504e+06  MULTIPOLYGON (((253865.034 3370604.591, 253838...  \n",
       "\n",
       "[288 rows x 5 columns]"
      ]
     },
     "execution_count": 8,
     "metadata": {},
     "output_type": "execute_result"
    }
   ],
   "source": [
    "gpkg_file"
   ]
  },
  {
   "cell_type": "code",
   "execution_count": 13,
   "metadata": {},
   "outputs": [],
   "source": [
    "area_data = gpkg_file.groupby(['DESCR_1'])[\"Area\"].apply(lambda x : x.astype(int).sum())"
   ]
  },
  {
   "cell_type": "code",
   "execution_count": 23,
   "metadata": {},
   "outputs": [
    {
     "data": {
      "text/plain": [
       "pandas.core.frame.DataFrame"
      ]
     },
     "execution_count": 23,
     "metadata": {},
     "output_type": "execute_result"
    }
   ],
   "source": [
    "type(area_data.reset_index())"
   ]
  },
  {
   "cell_type": "code",
   "execution_count": null,
   "metadata": {},
   "outputs": [],
   "source": []
  }
 ],
 "metadata": {
  "kernelspec": {
   "display_name": "geo",
   "language": "python",
   "name": "python3"
  },
  "language_info": {
   "codemirror_mode": {
    "name": "ipython",
    "version": 3
   },
   "file_extension": ".py",
   "mimetype": "text/x-python",
   "name": "python",
   "nbconvert_exporter": "python",
   "pygments_lexer": "ipython3",
   "version": "3.11.9"
  }
 },
 "nbformat": 4,
 "nbformat_minor": 2
}
